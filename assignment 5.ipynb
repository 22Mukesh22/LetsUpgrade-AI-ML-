{
 "cells": [
  {
   "cell_type": "markdown",
   "metadata": {},
   "source": [
    "# Write a Python program to find the first 20 non-even prime natural numbers.\n"
   ]
  },
  {
   "cell_type": "code",
   "execution_count": 41,
   "metadata": {},
   "outputs": [
    {
     "name": "stdout",
     "output_type": "stream",
     "text": [
      "Write a Python program to find the first 20 non-even prime natural numbers.\n",
      "3\n",
      "5\n",
      "7\n",
      "11\n",
      "13\n",
      "17\n",
      "19\n",
      "23\n",
      "29\n",
      "31\n",
      "37\n",
      "41\n",
      "43\n",
      "47\n",
      "53\n",
      "59\n",
      "61\n",
      "67\n",
      "71\n",
      "73\n"
     ]
    }
   ],
   "source": [
    "print(\"Write a Python program to find the first 20 non-even prime natural numbers.\")\n",
    "\n",
    "for i in range(3, 74): \n",
    "    for n in range(2, i): \n",
    "            if (i % n) == 0: \n",
    "                break\n",
    "            else: \n",
    "                if n == i//2 + 1: \n",
    "                    print(i) \n",
    "        \n",
    "        \n",
    "    \n",
    "\n",
    "    \n",
    "        \n"
   ]
  },
  {
   "cell_type": "markdown",
   "metadata": {},
   "source": [
    "# Write a Python program to implement 15 functions of string."
   ]
  },
  {
   "cell_type": "code",
   "execution_count": 77,
   "metadata": {
    "scrolled": true
   },
   "outputs": [
    {
     "name": "stdout",
     "output_type": "stream",
     "text": [
      "My Name Is Mukesh Sharma\n",
      "M\n",
      "My Na\n",
      "My Name Is Mukesh Sharma\n",
      "MNesusSr\n",
      "Shar\n",
      "MY NAME IS MUKESH SHARMA\n",
      "my name is mukesh sharma\n",
      "your Name Is Mukesh Sharma\n",
      "1\n",
      "-1\n",
      "My Name Is Mukesh Sharma\n",
      "<built-in method translate of str object at 0x00000186F3757620>\n",
      "My Name Is Mukesh Sharma\n"
     ]
    }
   ],
   "source": [
    "s = \"My Name Is Mukesh Sharma\"\n",
    "print(s)\n",
    "print(s[0])\n",
    "print(s[0:5])\n",
    "print(s[::])\n",
    "print(s[::3])\n",
    "print(s[-6:-2])\n",
    "print(s.upper())\n",
    "print(s.lower())\n",
    "print(s.replace(\"My\", \"your\"))\n",
    "print(s.find(\"y\"))\n",
    "print(s.rfind(\"mukesh\"))\n",
    "print(s.title())\n",
    "print(s.translate)\n",
    "print(s.strip())\n"
   ]
  },
  {
   "cell_type": "code",
   "execution_count": null,
   "metadata": {},
   "outputs": [],
   "source": [
    "\n"
   ]
  },
  {
   "cell_type": "code",
   "execution_count": null,
   "metadata": {},
   "outputs": [],
   "source": [
    "\n"
   ]
  },
  {
   "cell_type": "code",
   "execution_count": null,
   "metadata": {},
   "outputs": [],
   "source": []
  }
 ],
 "metadata": {
  "kernelspec": {
   "display_name": "Python 3",
   "language": "python",
   "name": "python3"
  },
  "language_info": {
   "codemirror_mode": {
    "name": "ipython",
    "version": 3
   },
   "file_extension": ".py",
   "mimetype": "text/x-python",
   "name": "python",
   "nbconvert_exporter": "python",
   "pygments_lexer": "ipython3",
   "version": "3.7.1"
  }
 },
 "nbformat": 4,
 "nbformat_minor": 2
}
