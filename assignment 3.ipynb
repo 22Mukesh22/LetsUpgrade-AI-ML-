{
 "cells": [
  {
   "cell_type": "markdown",
   "metadata": {},
   "source": [
    "# Write a program to convert fahrenheit to kelvin and celsius both?"
   ]
  },
  {
   "cell_type": "code",
   "execution_count": 20,
   "metadata": {},
   "outputs": [
    {
     "name": "stdout",
     "output_type": "stream",
     "text": [
      "Convert 68 degrees Fahrenheit to degrees Celsius\n",
      "20.0\n"
     ]
    }
   ],
   "source": [
    "print(\"Convert 68 degrees Fahrenheit to degrees Celsius\")\n",
    "temperature = 68\n",
    "T = (temperature-32)*5/9 \n",
    "print(T)"
   ]
  },
  {
   "cell_type": "code",
   "execution_count": 21,
   "metadata": {},
   "outputs": [
    {
     "name": "stdout",
     "output_type": "stream",
     "text": [
      "Convert 60 degrees Fahrenheit to degrees Kelvin:\n",
      "288.70555555555563\n"
     ]
    }
   ],
   "source": [
    "print(\"Convert 60 degrees Fahrenheit to degrees Kelvin:\")\n",
    "temperature1 = 60\n",
    "T = (temperature1+459.67)*(5/9)\n",
    "print(T)"
   ]
  },
  {
   "cell_type": "markdown",
   "metadata": {},
   "source": [
    "# Write a program to swap two numbers in Python without using a temporary variable."
   ]
  },
  {
   "cell_type": "code",
   "execution_count": 45,
   "metadata": {},
   "outputs": [
    {
     "name": "stdout",
     "output_type": "stream",
     "text": [
      " Write a program to swap two numbers in Python without using a temporary variable.\n",
      "The value of a  8\n",
      "The value of b  5\n",
      "5\n",
      "The swap value of a and b are \n",
      "the value of a after swapping is  5\n",
      "the value of b after swapping  is  8\n"
     ]
    }
   ],
   "source": [
    "print(\" Write a program to swap two numbers in Python without using a temporary variable.\")\n",
    "a = 8\n",
    "print(\"The value of a \", a)\n",
    "b = 5\n",
    "print(\"The value of b \", b)\n",
    "a = a+b\n",
    "b = a-b\n",
    "a = a-b\n",
    "print(a)\n",
    "print(\"The swap value of a and b are \")\n",
    "print(\"the value of a after swapping is \", a)\n",
    "print(\"the value of b after swapping  is \", b)"
   ]
  },
  {
   "cell_type": "markdown",
   "metadata": {},
   "source": [
    "# Write a program to find the fourth root of a number.\n"
   ]
  },
  {
   "cell_type": "code",
   "execution_count": 81,
   "metadata": {},
   "outputs": [
    {
     "name": "stdout",
     "output_type": "stream",
     "text": [
      "Write a program to find the fourth root of a number.\n",
      "The Fourth Root of a Number 16 is \n",
      "2.8284271247461903\n"
     ]
    }
   ],
   "source": [
    "print(\"Write a program to find the fourth root of a number.\")\n",
    "import math as m \n",
    "number = 64\n",
    "print(\"The Fourth Root of a Number 16 is \")\n",
    "print(pow(number,1/4))\n",
    "    "
   ]
  },
  {
   "cell_type": "markdown",
   "metadata": {},
   "source": [
    "# Write a program to subtract two complex numbers in Python"
   ]
  },
  {
   "cell_type": "code",
   "execution_count": 80,
   "metadata": {},
   "outputs": [
    {
     "name": "stdout",
     "output_type": "stream",
     "text": [
      "Write a program to subtract two complex numbers in Python\n",
      "The value of first_number is  (5+6j)\n",
      "The value of second_number is  (8+6j)\n",
      "The subtraction of the two numbers is  (-3+0j)\n"
     ]
    }
   ],
   "source": [
    "print(\"Write a program to subtract two complex numbers in Python\")\n",
    "first_number = 5+6j\n",
    "print(\"The value of first_number is \", first_number)\n",
    "second_number = 8+6j\n",
    "print(\"The value of second_number is \", second_number)\n",
    "subtract = first_number-second_number\n",
    "print(\"The subtraction of the two numbers is \",subtract)"
   ]
  },
  {
   "cell_type": "markdown",
   "metadata": {},
   "source": [
    "# Write a program to swap two numbers in Python with the help of a temporary variable"
   ]
  },
  {
   "cell_type": "code",
   "execution_count": 46,
   "metadata": {},
   "outputs": [
    {
     "name": "stdout",
     "output_type": "stream",
     "text": [
      " Write a program to swap two numbers in Python with using a temporary variable.\n",
      "The value of a  8\n",
      "The value of b  5\n",
      "The swap value of a and b are \n",
      "the value of a after swapping is  5\n",
      "the value of b after swapping  is  8\n"
     ]
    }
   ],
   "source": [
    "print(\" Write a program to swap two numbers in Python with using a temporary variable.\")\n",
    "a = 8\n",
    "print(\"The value of a \", a)\n",
    "b = 5\n",
    "print(\"The value of b \", b)\n",
    "c=b\n",
    "b=a\n",
    "a=c\n",
    "print(\"The swap value of a and b are \")\n",
    "print(\"the value of a after swapping is \", a)\n",
    "print(\"the value of b after swapping  is \", b)"
   ]
  },
  {
   "cell_type": "markdown",
   "metadata": {},
   "source": [
    "# Write a program to demonstrate all the available data types in Python. Hint: Use type() function"
   ]
  },
  {
   "cell_type": "code",
   "execution_count": 73,
   "metadata": {},
   "outputs": [
    {
     "name": "stdout",
     "output_type": "stream",
     "text": [
      "Write a program to demonstrate all the available data types in Python. Hint: Use type() function\n",
      "<class 'int'>\n",
      "<class 'float'>\n",
      "<class 'str'>\n",
      "<class 'dict'>\n",
      "<class 'list'>\n",
      "<class 'bool'>\n",
      "<class 'bool'>\n",
      "<class 'set'>\n",
      "<class 'tuple'>\n"
     ]
    }
   ],
   "source": [
    "print(\"Write a program to demonstrate all the available data types in Python. Hint: Use type() function\")\n",
    "a = 4\n",
    "print(type(a))\n",
    "b = 5.23\n",
    "print(type(b))\n",
    "c = \"MUKESH SHARMA\"\n",
    "print(type(c))\n",
    "D = {\"BIKE\":\"PULSAR\", \"FRUITS\":\"APPLE\"}\n",
    "print(type(D))\n",
    "L = [1,2,3,4,5,6]\n",
    "print(type(L))\n",
    "B = 5>2 and 6<5\n",
    "print(type(B))\n",
    "C = 4>1 or 2>4\n",
    "print(type(C))\n",
    "sets = {1,2,3,4,4,4,5,5,6,7,7,8}\n",
    "print(type(sets))\n",
    "tuples = (\"Mukesh\" , \"SHARMA\" , 1 , 2 , 8)\n",
    "print(type(tuples))\n",
    "\n"
   ]
  },
  {
   "cell_type": "markdown",
   "metadata": {},
   "source": [
    "# Create a Markdown cell in jupyter and list the steps discussed in the session by Dr. Darshan\n",
    "Ingle sir to create Github profile and upload Githubs Assignment link."
   ]
  },
  {
   "cell_type": "markdown",
   "metadata": {},
   "source": [
    "To Create Github profile \n",
    "Go to https://github.com/join \n",
    "Choose Sign up for GitHub, and then follow the instructions.\n",
    "Type a user name, your email address, and a password.\n",
    "Pass the test to prove you are not a robot.\n",
    "Verify the email and after this your account will be created \n",
    "Create a Github public repo and name it LetsUpgrade AI/ML \n",
    "Upload the files/solution in the repo in day wise manner. \n",
    "Copy the URL of the Folder of that day and paste in the Assignment Submission Form available in google forum"
   ]
  },
  {
   "cell_type": "code",
   "execution_count": null,
   "metadata": {},
   "outputs": [],
   "source": []
  }
 ],
 "metadata": {
  "kernelspec": {
   "display_name": "Python 3",
   "language": "python",
   "name": "python3"
  },
  "language_info": {
   "codemirror_mode": {
    "name": "ipython",
    "version": 3
   },
   "file_extension": ".py",
   "mimetype": "text/x-python",
   "name": "python",
   "nbconvert_exporter": "python",
   "pygments_lexer": "ipython3",
   "version": "3.7.1"
  }
 },
 "nbformat": 4,
 "nbformat_minor": 2
}
